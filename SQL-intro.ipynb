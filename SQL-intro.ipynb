{
 "cells": [
  {
   "cell_type": "markdown",
   "metadata": {},
   "source": [
    "# Introduction à SQL"
   ]
  },
  {
   "cell_type": "markdown",
   "metadata": {},
   "source": [
    "---\n",
    "## Exercice 1 - Dragons !"
   ]
  },
  {
   "cell_type": "markdown",
   "metadata": {},
   "source": [
    "On donne un schéma très partiel d'une base de donnée (il manque les domaines et les contraintes d'intégrité, à vous de compléter !):\n",
    "* ```\n",
    "Dragons(Nom, Sexe, Longueur, NombreEcailles, CracheDuFeu, ComportementAmoureux)\n",
    "```\n",
    "* ```\n",
    "Aime(DragonAimant, DragonAimé, Force)\n",
    "```\n",
    "* ```\n",
    "Nourritures(Produit, Calories)\n",
    "```\n",
    "* ```\n",
    "Repas(Dragon, Produit, Quantité)\n",
    "```"
   ]
  },
  {
   "cell_type": "markdown",
   "metadata": {},
   "source": [
    "Une réalisation est donnée ci-dessous à titre illustratif:\n",
    "\n",
    "* **Dragons:**\n",
    "\n",
    "| Nom     | Sexe | Longueur | NombreEcailles | CracheDuFeu | ComportementAmoureux |\n",
    "|---------|------|----------|----------------|-------------|----------------------|\n",
    "| Sméagol | M    | 152      | 1857           | oui         | macho                |\n",
    "| Birdurh | M    | 258      | 4787           | non         | timide               |\n",
    "| Négueth | F    | 128      | 1581           | oui         | sincère              |\n",
    "| MissToc | F    | 183      | 2781           | non         | superflu             |\n",
    "| Bolong  | M    | 213      | 2751           | oui         | macho                |\n",
    "| Miloch  | M    | 83       | 718            | oui         | timide               |\n",
    "| Nessie  | M    | 168      | 1721           | non         | absent               |\n",
    "| Tarak   | F    | 123      | 851            | oui         | timide               |\n",
    "| Solong  | M    | 173      | 1481           | oui         | sincère              |\n",
    "\n",
    "* **Aime:**\n",
    "\n",
    "| DragonAimant | DragonAimé | Force         |\n",
    "|--------------|------------|---------------|\n",
    "| Sméagol      | Négueth    | passionnément |\n",
    "| Birdurh      | Négueth    | beaucoup      |\n",
    "| Négueth      | Miloch     | à la folie    |\n",
    "| Bolong       | Négueth    | à la folie    |\n",
    "| Tarak        | Bolong     | un peu        |\n",
    "| Solong       | Tarak      | beaucoup      |\n",
    "\n",
    "* **Nourritures:**\n",
    "\n",
    "| Produit   | Calories |\n",
    "|-----------|----------|\n",
    "| pomme     | 7        |\n",
    "| cacahuète | 10       |\n",
    "| orange    | 25       |\n",
    "| oeuf      | 15       |\n",
    "| ver       | 3        |\n",
    "| poisson   | 45       |\n",
    "| humain    | 215      |\n",
    "\n",
    "* **Repas:**\n",
    "\n",
    "| Dragon  | Produit   | Quantité |\n",
    "|---------|-----------|----------|\n",
    "| Sméagol | cacahuète | 1000     |\n",
    "| Sméagol | pomme     | 16       |\n",
    "| Sméagol | humain    | 2        |\n",
    "| Birdurh | oeuf      | 26       |\n",
    "| Négueth | oeuf      | 1        |\n",
    "| Négeth  | orange    | 6        |\n",
    "| Négeth  | humain    | 1        |\n",
    "| Miloch  | ver       | 95       |\n",
    "| Miloch  | humain    | 3        |\n",
    "| Nessie  | poisson   | 42       |\n",
    "| Tarak   | pomme     | 10       |\n",
    "| Tarak   | orange    | 10       |\n",
    "| Solong  | oeuf      | 13       |\n",
    "| Solong  | poisson   | 7        |\n",
    "| Solong  | orange    | 1        |\n",
    "| Solong  | humain    | 2        |\n",
    "| Bolong  | humain    | 5        |"
   ]
  },
  {
   "cell_type": "markdown",
   "metadata": {},
   "source": [
    "1. Réécrivez les schémas de ces quatre relations:\n",
    "  * en précisant les domaines\n",
    "  * en précisant les clés (primaires, secondaires)\n",
    "  * en évitant toute redondance dans la saisie des données (vous ne devriez jamais avoir à taper deux fois un nom de dragon, par exemple)\n",
    "1. Créez un script SQL qui:\n",
    "  * Créera les tables en fonction du schéma précédent\n",
    "  * Remplira les tables avec les données ci-dessus\n",
    "1. Testez votre script avec sqlite3"
   ]
  },
  {
   "cell_type": "markdown",
   "metadata": {},
   "source": [
    "---\n",
    "## Exercice 2 - Encore des dragons !"
   ]
  },
  {
   "cell_type": "markdown",
   "metadata": {},
   "source": [
    "L'objectif de cet exercice est de reprendre le précédent, mais de lancer toutes les requetes sql à l'aide de la librairie standard [sqlite3](https://docs.python.org/fr/3.6/library/sqlite3.html) !"
   ]
  },
  {
   "cell_type": "markdown",
   "metadata": {},
   "source": [
    "---\n",
    "## Exercice 3 - Départements"
   ]
  },
  {
   "cell_type": "markdown",
   "metadata": {},
   "source": [
    "Dans le répertoire `departements`, vous trouverez deux fichiers au format `csv`:\n",
    "* Le fichier `departements.csv` qui contient une liste des départements, leurs codes ainsi que les régions auxquelles ils appartiennent;\n",
    "* Le fichier `limitrophes.csv` qui donne la liste des départements voisins d'un département donné.\n",
    "\n",
    "1. À l'aide de la librairie standard [csv](https://docs.python.org/fr/3.6/library/csv.html), lisez et chargez en mémoire ces deux fichiers.\n",
    "1. Reprenez le schéma de base de donnée du TP précédent sur les départements, et rajoutez-y la possibilité de spécifier la région contenant un département;\n",
    "1. À l'aide de la librairie `sqlite3`, créez et remplissez les tables à partir des données extraites des fichiers csv."
   ]
  },
  {
   "cell_type": "markdown",
   "metadata": {},
   "source": [
    "---\n",
    "## Exercice 4 - Pokemons, le retour"
   ]
  },
  {
   "cell_type": "markdown",
   "metadata": {},
   "source": [
    "Le fichier `pokemons.csv` dans le répertoire `pokemons` contient de nombreuses données sur de non moins nombreux pokemons.\n",
    "\n",
    "1. Lisez et chargez en mémoire ce fichier à l'aide d'un objet `DictReader` de la librairie `csv`. Profitez-en pour examiner la structure d'un enregistrement.\n",
    "1. Nous souhaitons créer une base de donnée à l'aide d'une _partie_ des données extraites de ce fichier csv. Créez et spécifiez le schéma de cette base, sachant que:\n",
    "  * Un  pokémon est caractérisé par son nom et son numéro d’identification unique dans le pokedex. Il dispose d’un type primaire et d’un type secondaire (ce dernier pouvant être vide), de caractéristiques numériques (points de vie, attaque, défense, attaques et défenses spéciales, vitesse), et de mouvements (dont le nombre peut varier... ce qui nécessite une relation à part). On doit pouvoir retrouver le nom de l'image de chaque pokemon (mais l'image elle-même n'est pas stockée dans la base, bien que cela soit possible à l'aide du type `BLOB`);\n",
    "  * Les caractéristiques numériques pourraient être placées dans leur propre relation;\n",
    "  * Les types et les mouvements (_abilities_) ne devraient jamais être saisis plus d'une fois: ils leur faut donc leur propre relation, afin d'offrir le maximum de souplesse et de vérification de contraintes d'intégrité;\n",
    "1. Créez les tables avec `sqlite3`, basées sur votre schéma.\n",
    "1. Remplissez ces tables à partir de vos données."
   ]
  }
 ],
 "metadata": {
  "kernelspec": {
   "display_name": "Python 3",
   "language": "python",
   "name": "python3"
  },
  "language_info": {
   "codemirror_mode": {
    "name": "ipython",
    "version": 3
   },
   "file_extension": ".py",
   "mimetype": "text/x-python",
   "name": "python",
   "nbconvert_exporter": "python",
   "pygments_lexer": "ipython3",
   "version": "3.9.1"
  }
 },
 "nbformat": 4,
 "nbformat_minor": 4
}
